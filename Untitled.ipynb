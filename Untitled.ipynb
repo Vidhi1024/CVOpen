{
 "cells": [
  {
   "cell_type": "code",
   "execution_count": 99,
   "id": "748063bd-e703-4c40-b4b3-51e236a577a5",
   "metadata": {},
   "outputs": [],
   "source": [
    "import cv2\n",
    "import os\n",
    "import numpy as np\n",
    "from matplotlib import pyplot as plt\n",
    "# %matplotlib qt"
   ]
  },
  {
   "cell_type": "code",
   "execution_count": 100,
   "id": "299083d3-8a2b-4a6f-8dc8-a63337ff7599",
   "metadata": {},
   "outputs": [],
   "source": [
    "IMG_PATH = os.path.join(\"C:\\\\Users\\Vidhi\\Downloads\\pothole.jpg\")"
   ]
  },
  {
   "cell_type": "code",
   "execution_count": 101,
   "id": "7a1f3e7a-a114-4442-97ab-a5c7bf24427d",
   "metadata": {},
   "outputs": [],
   "source": [
    "img=cv2.imread(IMG_PATH)"
   ]
  },
  {
   "cell_type": "code",
   "execution_count": 102,
   "id": "8c7c8070-1406-4f79-ad26-64394fa101ba",
   "metadata": {},
   "outputs": [],
   "source": [
    "# plt.imshow(img)\n",
    "gray = cv2.cvtColor(img, cv2.COLOR_BGR2GRAY)\n",
    "blur = cv2.GaussianBlur(gray, (5,5),0)\n",
    "canny= cv2.Canny(blur, threshold1=100, threshold2=400)"
   ]
  },
  {
   "cell_type": "code",
   "execution_count": 103,
   "id": "3e1916cb-150d-439a-ae05-fdb21d8b0cfe",
   "metadata": {},
   "outputs": [
    {
     "data": {
      "text/plain": [
       "(682, 1023)"
      ]
     },
     "execution_count": 103,
     "metadata": {},
     "output_type": "execute_result"
    }
   ],
   "source": [
    "canny.shape"
   ]
  },
  {
   "cell_type": "code",
   "execution_count": 104,
   "id": "a3a9cca7-74c7-4005-bcc5-202b681b04ea",
   "metadata": {},
   "outputs": [],
   "source": [
    "pic=np.copy(canny)"
   ]
  },
  {
   "cell_type": "code",
   "execution_count": 105,
   "id": "66c21d20-b1fc-4b0a-8470-5ce5dbf36e8a",
   "metadata": {},
   "outputs": [],
   "source": [
    "pts=np.array([[408,492],[431,492], [517,480], [577,476], [633,480],[695,480], [719,480],[649,517],[575,531],[505,531], [459,523], [408,492]])"
   ]
  },
  {
   "cell_type": "code",
   "execution_count": 106,
   "id": "5c584ed7-a1c7-4292-a6fe-cdb5274daea6",
   "metadata": {},
   "outputs": [
    {
     "data": {
      "text/plain": [
       "array([[0, 0, 0, ..., 0, 0, 0],\n",
       "       [0, 0, 0, ..., 0, 0, 0],\n",
       "       [0, 0, 0, ..., 0, 0, 0],\n",
       "       ...,\n",
       "       [0, 0, 0, ..., 0, 0, 0],\n",
       "       [0, 0, 0, ..., 0, 0, 0],\n",
       "       [0, 0, 0, ..., 0, 0, 0]], dtype=uint8)"
      ]
     },
     "execution_count": 106,
     "metadata": {},
     "output_type": "execute_result"
    }
   ],
   "source": [
    "cv2.polylines(pic, [pts], False, (255, 0, 0), thickness=2)"
   ]
  },
  {
   "cell_type": "code",
   "execution_count": 107,
   "id": "e2f69f80-f97a-4d56-8f64-7ec53f0550bf",
   "metadata": {},
   "outputs": [
    {
     "data": {
      "text/plain": [
       "<matplotlib.image.AxesImage at 0x2109b115390>"
      ]
     },
     "execution_count": 107,
     "metadata": {},
     "output_type": "execute_result"
    }
   ],
   "source": [
    "plt.imshow(pic)"
   ]
  },
  {
   "cell_type": "code",
   "execution_count": null,
   "id": "48bd2188-d8b6-4871-812f-13ce9e5343cf",
   "metadata": {},
   "outputs": [],
   "source": []
  }
 ],
 "metadata": {
  "kernelspec": {
   "display_name": "Python 3 (ipykernel)",
   "language": "python",
   "name": "python3"
  },
  "language_info": {
   "codemirror_mode": {
    "name": "ipython",
    "version": 3
   },
   "file_extension": ".py",
   "mimetype": "text/x-python",
   "name": "python",
   "nbconvert_exporter": "python",
   "pygments_lexer": "ipython3",
   "version": "3.10.6"
  }
 },
 "nbformat": 4,
 "nbformat_minor": 5
}
